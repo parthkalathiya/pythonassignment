{
 "cells": [
  {
   "cell_type": "code",
   "execution_count": 2,
   "id": "2d221dc1",
   "metadata": {},
   "outputs": [],
   "source": [
    "#1 What is File function in python? What is keywords to create and write file.\n",
    "#The file function is used to \"create\", \"modify\",\"read\" and \"find\" the external files using python.\n",
    "#      \"open\" keyword is functioning for create and write files with \"w\" attribute."
   ]
  },
  {
   "cell_type": "code",
   "execution_count": null,
   "id": "6a258c63",
   "metadata": {},
   "outputs": [],
   "source": [
    "#2 Write a Python program to read an entire text file.\n",
    "read = open(\"abc.txt\",\"r\")\n",
    "for line in read:\n",
    "    print(line, end=\"\")\n",
    "read.close()"
   ]
  },
  {
   "cell_type": "code",
   "execution_count": 6,
   "id": "9e0154e3",
   "metadata": {},
   "outputs": [
    {
     "name": "stdout",
     "output_type": "stream",
     "text": [
      "\n",
      "hello\n",
      "hello\n"
     ]
    }
   ],
   "source": [
    "#3 Write a Python program to append text to a file and display the text.\n",
    "a = open(\"text.txt\",\"a\")\n",
    "a.write(\"\\nhello\")\n",
    "a.close()\n",
    "\n",
    "r = open(\"text.txt\",\"r\")\n",
    "print(r.read())"
   ]
  },
  {
   "cell_type": "code",
   "execution_count": 5,
   "id": "a4767ec2",
   "metadata": {},
   "outputs": [
    {
     "name": "stdout",
     "output_type": "stream",
     "text": [
      "\n",
      "hello"
     ]
    },
    {
     "ename": "IndexError",
     "evalue": "list index out of range",
     "output_type": "error",
     "traceback": [
      "\u001b[1;31m---------------------------------------------------------------------------\u001b[0m",
      "\u001b[1;31mIndexError\u001b[0m                                Traceback (most recent call last)",
      "Input \u001b[1;32mIn [5]\u001b[0m, in \u001b[0;36m<cell line: 4>\u001b[1;34m()\u001b[0m\n\u001b[0;32m      3\u001b[0m x \u001b[38;5;241m=\u001b[39m file\u001b[38;5;241m.\u001b[39mreadlines()\n\u001b[0;32m      4\u001b[0m \u001b[38;5;28;01mfor\u001b[39;00m i \u001b[38;5;129;01min\u001b[39;00m \u001b[38;5;28mrange\u001b[39m(\u001b[38;5;241m5\u001b[39m):\n\u001b[1;32m----> 5\u001b[0m     \u001b[38;5;28mprint\u001b[39m(\u001b[43mx\u001b[49m\u001b[43m[\u001b[49m\u001b[43mi\u001b[49m\u001b[43m]\u001b[49m, end\u001b[38;5;241m=\u001b[39m\u001b[38;5;124m\"\u001b[39m\u001b[38;5;124m\"\u001b[39m)\n\u001b[0;32m      6\u001b[0m file\u001b[38;5;241m.\u001b[39mclose()\n",
      "\u001b[1;31mIndexError\u001b[0m: list index out of range"
     ]
    }
   ],
   "source": [
    "#4 Write a Python program to read first n lines of a file.\n",
    "file = open(\"text.txt\",\"r\")\n",
    "x = file.readlines()\n",
    "for i in range(2):\n",
    "    print(x[i], end=\"\")\n",
    "file.close()"
   ]
  },
  {
   "cell_type": "code",
   "execution_count": 7,
   "id": "8be4b62e",
   "metadata": {},
   "outputs": [
    {
     "ename": "FileNotFoundError",
     "evalue": "[Errno 2] No such file or directory: 'myfile.txt'",
     "output_type": "error",
     "traceback": [
      "\u001b[1;31m---------------------------------------------------------------------------\u001b[0m",
      "\u001b[1;31mFileNotFoundError\u001b[0m                         Traceback (most recent call last)",
      "Input \u001b[1;32mIn [7]\u001b[0m, in \u001b[0;36m<cell line: 3>\u001b[1;34m()\u001b[0m\n\u001b[0;32m      1\u001b[0m \u001b[38;5;66;03m#5 Write a Python program to read last n lines of a file.\u001b[39;00m\n\u001b[1;32m----> 3\u001b[0m f\u001b[38;5;241m=\u001b[39m\u001b[38;5;28;43mopen\u001b[39;49m\u001b[43m(\u001b[49m\u001b[38;5;124;43m'\u001b[39;49m\u001b[38;5;124;43mmyfile.txt\u001b[39;49m\u001b[38;5;124;43m'\u001b[39;49m\u001b[43m,\u001b[49m\u001b[38;5;124;43m'\u001b[39;49m\u001b[38;5;124;43mr\u001b[39;49m\u001b[38;5;124;43m'\u001b[39;49m\u001b[43m)\u001b[49m\n\u001b[0;32m      4\u001b[0m l\u001b[38;5;241m=\u001b[39mf\u001b[38;5;241m.\u001b[39mreadlines()\n\u001b[0;32m      6\u001b[0m \u001b[38;5;28;01mfor\u001b[39;00m i \u001b[38;5;129;01min\u001b[39;00m \u001b[38;5;28mrange\u001b[39m(\u001b[38;5;241m-\u001b[39m\u001b[38;5;241m3\u001b[39m,\u001b[38;5;241m0\u001b[39m):\n",
      "\u001b[1;31mFileNotFoundError\u001b[0m: [Errno 2] No such file or directory: 'myfile.txt'"
     ]
    }
   ],
   "source": [
    "#5 Write a Python program to read last n lines of a file.\n",
    "\n",
    "f=open('myfile.txt','r')\n",
    "l=f.readlines()\n",
    "\n",
    "for i in range(-3,0):\n",
    "    print(l[i],end='')\n",
    "f.close()"
   ]
  },
  {
   "cell_type": "code",
   "execution_count": 8,
   "id": "106d4ec2",
   "metadata": {},
   "outputs": [
    {
     "ename": "FileNotFoundError",
     "evalue": "[Errno 2] No such file or directory: 'myfile.txt'",
     "output_type": "error",
     "traceback": [
      "\u001b[1;31m---------------------------------------------------------------------------\u001b[0m",
      "\u001b[1;31mFileNotFoundError\u001b[0m                         Traceback (most recent call last)",
      "Input \u001b[1;32mIn [8]\u001b[0m, in \u001b[0;36m<cell line: 2>\u001b[1;34m()\u001b[0m\n\u001b[0;32m      1\u001b[0m \u001b[38;5;66;03m#6 Write a Python program to read a file line by line and store it into a list.\u001b[39;00m\n\u001b[1;32m----> 2\u001b[0m f\u001b[38;5;241m=\u001b[39m\u001b[38;5;28;43mopen\u001b[39;49m\u001b[43m(\u001b[49m\u001b[38;5;124;43m'\u001b[39;49m\u001b[38;5;124;43mmyfile.txt\u001b[39;49m\u001b[38;5;124;43m'\u001b[39;49m\u001b[43m,\u001b[49m\u001b[38;5;124;43m'\u001b[39;49m\u001b[38;5;124;43mr\u001b[39;49m\u001b[38;5;124;43m'\u001b[39;49m\u001b[43m)\u001b[49m\n\u001b[0;32m      3\u001b[0m l\u001b[38;5;241m=\u001b[39m\u001b[38;5;28mlist\u001b[39m()\n\u001b[0;32m      5\u001b[0m \u001b[38;5;28;01mfor\u001b[39;00m i \u001b[38;5;129;01min\u001b[39;00m f:\n",
      "\u001b[1;31mFileNotFoundError\u001b[0m: [Errno 2] No such file or directory: 'myfile.txt'"
     ]
    }
   ],
   "source": [
    "#6 Write a Python program to read a file line by line and store it into a list.\n",
    "f=open('myfile.txt','r')\n",
    "l=list()\n",
    "\n",
    "for i in f:\n",
    "    l.append(i)\n",
    "print(l)    \n",
    "f.close()"
   ]
  },
  {
   "cell_type": "code",
   "execution_count": 10,
   "id": "d011a2da",
   "metadata": {},
   "outputs": [
    {
     "ename": "FileNotFoundError",
     "evalue": "[Errno 2] No such file or directory: 'myfile.txt'",
     "output_type": "error",
     "traceback": [
      "\u001b[1;31m---------------------------------------------------------------------------\u001b[0m",
      "\u001b[1;31mFileNotFoundError\u001b[0m                         Traceback (most recent call last)",
      "Input \u001b[1;32mIn [10]\u001b[0m, in \u001b[0;36m<cell line: 2>\u001b[1;34m()\u001b[0m\n\u001b[0;32m      1\u001b[0m \u001b[38;5;66;03m#7 Write a Python program to read a file line by line store it into a variable.\u001b[39;00m\n\u001b[1;32m----> 2\u001b[0m f\u001b[38;5;241m=\u001b[39m\u001b[38;5;28;43mopen\u001b[39;49m\u001b[43m(\u001b[49m\u001b[38;5;124;43m'\u001b[39;49m\u001b[38;5;124;43mmyfile.txt\u001b[39;49m\u001b[38;5;124;43m'\u001b[39;49m\u001b[43m,\u001b[49m\u001b[38;5;124;43m'\u001b[39;49m\u001b[38;5;124;43mr\u001b[39;49m\u001b[38;5;124;43m'\u001b[39;49m\u001b[43m)\u001b[49m\n\u001b[0;32m      3\u001b[0m a\u001b[38;5;241m=\u001b[39m\u001b[38;5;124m\"\u001b[39m\u001b[38;5;124m\"\u001b[39m\n\u001b[0;32m      4\u001b[0m l\u001b[38;5;241m=\u001b[39m\u001b[38;5;28mlist\u001b[39m()\n",
      "\u001b[1;31mFileNotFoundError\u001b[0m: [Errno 2] No such file or directory: 'myfile.txt'"
     ]
    }
   ],
   "source": [
    "#7 Write a Python program to read a file line by line store it into a variable.\n",
    "f=open('myfile.txt','r')\n",
    "a=\"\"\n",
    "l=list()\n",
    "\n",
    "for i in f:\n",
    "    l.append(i)\n",
    "print(\"a=\\n\",l)    \n",
    "f.close()"
   ]
  },
  {
   "cell_type": "code",
   "execution_count": 11,
   "id": "e74c7ed9",
   "metadata": {},
   "outputs": [
    {
     "ename": "FileNotFoundError",
     "evalue": "[Errno 2] No such file or directory: 'myfile.txt'",
     "output_type": "error",
     "traceback": [
      "\u001b[1;31m---------------------------------------------------------------------------\u001b[0m",
      "\u001b[1;31mFileNotFoundError\u001b[0m                         Traceback (most recent call last)",
      "Input \u001b[1;32mIn [11]\u001b[0m, in \u001b[0;36m<cell line: 2>\u001b[1;34m()\u001b[0m\n\u001b[0;32m      1\u001b[0m \u001b[38;5;66;03m#8 Write a python program to find the longest words\u001b[39;00m\n\u001b[1;32m----> 2\u001b[0m f\u001b[38;5;241m=\u001b[39m\u001b[38;5;28;43mopen\u001b[39;49m\u001b[43m(\u001b[49m\u001b[38;5;124;43m'\u001b[39;49m\u001b[38;5;124;43mmyfile.txt\u001b[39;49m\u001b[38;5;124;43m'\u001b[39;49m\u001b[43m,\u001b[49m\u001b[38;5;124;43m'\u001b[39;49m\u001b[38;5;124;43mr\u001b[39;49m\u001b[38;5;124;43m'\u001b[39;49m\u001b[43m)\u001b[49m\n\u001b[0;32m      3\u001b[0m longestword\u001b[38;5;241m=\u001b[39m\u001b[38;5;124m\"\u001b[39m\u001b[38;5;124m\"\u001b[39m\n\u001b[0;32m      4\u001b[0m l\u001b[38;5;241m=\u001b[39m\u001b[38;5;28mlist\u001b[39m()\n",
      "\u001b[1;31mFileNotFoundError\u001b[0m: [Errno 2] No such file or directory: 'myfile.txt'"
     ]
    }
   ],
   "source": [
    "#8 Write a python program to find the longest words\n",
    "f=open('myfile.txt','r')\n",
    "longestword=\"\"\n",
    "l=list()\n",
    "\n",
    "for i in f:\n",
    "    a=i.split()\n",
    "    for x in a:\n",
    "        if len(x)>len(longestword):\n",
    "            longestword=x\n",
    "print(f'\"{longestword}\"lenght:', len(longestword))    \n",
    "f.close()"
   ]
  },
  {
   "cell_type": "code",
   "execution_count": null,
   "id": "70b423b0",
   "metadata": {},
   "outputs": [],
   "source": [
    "#9 Write a Python program to count the number of lines in a text file.\n",
    "f=open('myfile.txt','r')\n",
    "a=\"\"\n",
    "l=list()\n",
    "\n",
    "for i in f:\n",
    "    l.append(i)\n",
    "print(f'number of line',len(l))    \n",
    "f.close()"
   ]
  },
  {
   "cell_type": "code",
   "execution_count": null,
   "id": "4574bb94",
   "metadata": {},
   "outputs": [],
   "source": [
    "#10 Write a Python program to count the frequency of words in a file.\n",
    "f=open('myfile.txt','r')\n",
    "long=\"\"\n",
    "l=list()\n",
    "\n",
    "for i in f:\n",
    "    a = i.split()\n",
    "    for x in a :\n",
    "        if len(x) > len(long):\n",
    "            long = x\n",
    "print(f'\"{long}\" with lenght of :',len(long))\n",
    "        \n",
    "f.close()"
   ]
  },
  {
   "cell_type": "code",
   "execution_count": null,
   "id": "0de607b8",
   "metadata": {},
   "outputs": [],
   "source": [
    "#11 Write a Python program to write a list to a file.\n",
    "l = ['red,pink,white,black,green']\n",
    "f=open('myfile.txt','r')\n",
    "for i in l:\n",
    "    f.write('\\n'+i)\n",
    "f.close()"
   ]
  },
  {
   "cell_type": "code",
   "execution_count": null,
   "id": "a6166ef5",
   "metadata": {},
   "outputs": [],
   "source": [
    "#12 Write a Python program to copy the contents of a file to another file.\n",
    "f1 = open(\"text.txt\",\"r\")\n",
    "x = f1.readlines()\n",
    "f2 = open(\"copy.txt\",\"w\")\n",
    "for i in range(-5,0):\n",
    "    f2.write(x[i])\n",
    "f1.close()\n",
    "f2.close()"
   ]
  },
  {
   "cell_type": "code",
   "execution_count": null,
   "id": "6738b6ce",
   "metadata": {},
   "outputs": [],
   "source": [
    "#13 Explain Exception handling? What is an Error in Python?\n",
    "Exceptions: Exceptions are raised when the program is syntactically correct, but the code resulted in an error.\n",
    "    This error does not stop the execution of the program, however, it changes the normal flow of the program.\n",
    "example:\n",
    "    \n",
    "try:\n",
    "      print(x)\n",
    "except TypeError:\n",
    "      print(\"x is not defined\")\n",
    "except:\n",
    "      print(\"Error\")\n",
    "        \n",
    "output:As the except is executed, we can see the output as “Error”. "
   ]
  },
  {
   "cell_type": "code",
   "execution_count": 12,
   "id": "de04c18d",
   "metadata": {},
   "outputs": [
    {
     "ename": "IndentationError",
     "evalue": "unexpected indent (3173574954.py, line 2)",
     "output_type": "error",
     "traceback": [
      "\u001b[1;36m  Input \u001b[1;32mIn [12]\u001b[1;36m\u001b[0m\n\u001b[1;33m    First, the try clause is executed i.e. the code between try and except clause.\u001b[0m\n\u001b[1;37m    ^\u001b[0m\n\u001b[1;31mIndentationError\u001b[0m\u001b[1;31m:\u001b[0m unexpected indent\n"
     ]
    }
   ],
   "source": [
    "#14 How many except statements can a try-except block have? Name Some built-in exception classes:\n",
    "  First, the try clause is executed i.e. the code between try and except clause.\n",
    "If there is no exception, then only the try clause will run, except the clause is finished.\n",
    "If any exception occurs, the try clause will be skipped and except clause will run.\n",
    "If any exception occurs, but the except clause within the code doesn’t handle it, it is passed on to the outer try statements.\n",
    "If the exception is left unhandled, then the execution stops.\n",
    "A try statement can have more than one except clause."
   ]
  },
  {
   "cell_type": "code",
   "execution_count": null,
   "id": "7ecde757",
   "metadata": {},
   "outputs": [],
   "source": [
    "#15 When will the else part of try-except-else be executed?\n",
    " An Exception is an Event, which occurs during the execution of the program. It is also known as a run time error.\n",
    "When that error occurs, Python generates an exception during the execution and that can be handled, which avoids \n",
    "your program to interrupt.\n",
    "\n",
    "Example:\n",
    "\n",
    "a = 5\n",
    "b = 0\n",
    "print(a/b)\n",
    "\n",
    "Output:\n",
    "Traceback (most recent call last):\n",
    "File \"/home/8a10be6ca075391a8b174e0987a3e7f5.py\", line 3, in <module>\n",
    "    print(a/b)\n",
    "ZeroDivisionError: division by zero"
   ]
  },
  {
   "cell_type": "code",
   "execution_count": null,
   "id": "0aee7f38",
   "metadata": {},
   "outputs": [],
   "source": [
    "#16 Can one block of except statements handle multiple exception?\n",
    " Given a piece of code that can throw any of several different exceptions, and one needs to account\n",
    "for all of the potential exceptions that could be raised without creating duplicate code or long, meandering code passages.\n",
    "If you can handle different exceptions all using a single block of code, they can be grouped \n",
    "together in a tuple as shown in the code given below :\n",
    "\n",
    "Code #1 :\n",
    "\n",
    "try:\n",
    "    client_obj.get_url(url)\n",
    "except (URLError, ValueError, SocketTimeout):\n",
    "    client_obj.remove_url(url)\n",
    "The remove_url() method will be called if any of the listed exceptions occurs.\n",
    "If, on the other hand, if one of the exceptions has to be handled differently, then put it into \n",
    "its own except clause as shown in the code given below :"
   ]
  },
  {
   "cell_type": "code",
   "execution_count": 13,
   "id": "bf424082",
   "metadata": {},
   "outputs": [
    {
     "ename": "IndentationError",
     "evalue": "unexpected indent (4133261256.py, line 2)",
     "output_type": "error",
     "traceback": [
      "\u001b[1;36m  Input \u001b[1;32mIn [13]\u001b[1;36m\u001b[0m\n\u001b[1;33m    finally block is always executed after leaving the try statement. In case if some exception\u001b[0m\n\u001b[1;37m    ^\u001b[0m\n\u001b[1;31mIndentationError\u001b[0m\u001b[1;31m:\u001b[0m unexpected indent\n"
     ]
    }
   ],
   "source": [
    "#17 When is the finally block executed?\n",
    " finally block is always executed after leaving the try statement. In case if some exception \n",
    "    was not handled by except block, it is re-raised after execution of finally block.\n",
    "finally block is used to deallocate the system resources.\n",
    "One can use finally just after try without using except block, but no exception is handled in that case."
   ]
  },
  {
   "cell_type": "code",
   "execution_count": null,
   "id": "fa650a9b",
   "metadata": {},
   "outputs": [],
   "source": [
    "#18 What happens when „1‟== 1 is executed?\n",
    "I'm testing the tuple structure, and I found it's strange when I use the == operator like:\n",
    "\n",
    "example:\n",
    ">>>  (1,) == 1,\n",
    "Out: (False,)\n",
    "When I assign these two expressions to a variable, the result is true:\n",
    "\n",
    ">>> a = (1,)\n",
    ">>> b = 1,\n",
    ">>> a==b\n",
    "Out: True\n",
    "This questions is different from Python tuple trailing comma syntax rule in my view. \n",
    "I ask the group of expressions between == operator."
   ]
  },
  {
   "cell_type": "code",
   "execution_count": null,
   "id": "4f84d0e4",
   "metadata": {},
   "outputs": [],
   "source": [
    "#19 How Do You Handle Exceptions With Try/Except/Finally In Python? Explain with coding snippets.\n",
    "   An exception simply is an error that occurs during the execution of a program.\n",
    "When the Python program encounters a situation that disrupts the flow of the program, it raises an\n",
    "exception that can be handled.\n",
    "If not handled properly, the interpreter throws a traceback error along with the statements that\n",
    "caused that error. These exceptions prevent the program from crashing.\n",
    "Exceptions are handled in Python using try statement where suspicious codes that may raise exceptions are placed inside the try block and the code that handle the raised exception is placed inside except block.\n",
    "\n",
    "Here is the structure of try and except statement in Python.\n",
    "\n",
    "try:\n",
    "  ** Operational/Suspicious Code\n",
    "except SomeException:\n",
    "  ** Code to handle the exception.\n"
   ]
  },
  {
   "cell_type": "code",
   "execution_count": null,
   "id": "81f47278",
   "metadata": {},
   "outputs": [],
   "source": [
    "#20 Write python program that user to enter only odd numbers, else will raise an exception.\n",
    "start,end=4,19\n",
    "for num in range(start, end + 1):\n",
    "\n",
    "    if num % 2 != 0:\n",
    "        print(num, end=\" \")"
   ]
  },
  {
   "cell_type": "code",
   "execution_count": null,
   "id": "98d13fe9",
   "metadata": {},
   "outputs": [],
   "source": [
    "#21 What are oops concepts? Is multiple inheritance supported in java\n",
    "we will learn about the basics of OOPs. Object-Oriented Programming is a paradigm that provides many concepts, \n",
    "such as inheritance, data binding, polymorphism, etc.\n",
    "Simula is considered the first object-oriented programming language. \n",
    "The programming paradigm where everything is represented as an object is known as a truly object-oriented programming language.\n",
    "Smalltalk is considered the first truly object-oriented programming language.\n",
    "The popular object-oriented languages are Java, C#, PHP, Python, C++, etc.\n",
    "The main aim of object-oriented programming is to implement real-world entities, for example, object,\n",
    "classes, abstraction, inheritance, polymorphism, etc."
   ]
  },
  {
   "cell_type": "code",
   "execution_count": null,
   "id": "8c90d5b0",
   "metadata": {},
   "outputs": [],
   "source": [
    "#22 How to Define a Class in Python? What Is Self? Give An Example Of A Python Class.\n",
    "elf represents the instance of the class. By using the “self”  we can access the attributes and methods\n",
    "of the class in python. It binds the attributes with the given arguments.\n",
    "The reason you need to use self. is because Python does not use the @ syntax to refer to instance attributes. \n",
    "Python decided to do methods in a way that makes the instance to which the method belongs be passed automatically, \n",
    "but not received automatically: the first parameter of methods is the instance the method is called on.\n",
    "example:\n",
    "#it is clearly seen that self and obj is referring to the same object\n",
    " class check:\n",
    "    def __init__(self):\n",
    "        print(\"Address of self = \",id(self))\n",
    "obj = check()\n",
    "print(\"Address of class object = \",id(obj))\n",
    " \n",
    "# this code is Contributed by Samyak Jain\n",
    "Output:\n",
    "Address of self =  140124194801032\n",
    "Address of class object =  140124194801032"
   ]
  },
  {
   "cell_type": "code",
   "execution_count": null,
   "id": "bf7983d8",
   "metadata": {},
   "outputs": [],
   "source": [
    "#23 Write a Python class named Rectangle constructed by a length and width and a method which will compute the area of a rectangle\n",
    "\n",
    "\n",
    "class Rectangle():\n",
    "    def __init__(self, l, w):\n",
    "        self.length = l\n",
    "        self.width  = w\n",
    "\n",
    "    def rectangle_area(self):\n",
    "        return self.length*self.width\n",
    "\n",
    "newRectangle = Rectangle(10, 5)\n",
    "print(newRectangle.rectangle_area())"
   ]
  },
  {
   "cell_type": "code",
   "execution_count": null,
   "id": "0cd020c6",
   "metadata": {},
   "outputs": [],
   "source": [
    "#24 Write a Python class named Circle constructed by a radius and two methods which will compute the area and the perimeter of a circle\n",
    "class Circle():\n",
    "    def __init__(self, r):\n",
    "        self.radius = r\n",
    "\n",
    "    def area(self):\n",
    "        return self.radius**2*3.14\n",
    "    \n",
    "    def perimeter(self):\n",
    "        return 2*self.radius*3.14\n",
    "\n",
    "a = Circle(8)\n",
    "print(a.area())\n",
    "print(a.perimeter())"
   ]
  },
  {
   "cell_type": "code",
   "execution_count": null,
   "id": "b66af2ff",
   "metadata": {},
   "outputs": [],
   "source": [
    "#25 Explain Inheritance in Python with an example? What is init? Or What Is A Constructor In Python?\n",
    "   \n",
    "class Person(object):\n",
    "   \n",
    "  # Constructor\n",
    "    def __init__(self, name, id):\n",
    "        self.name = name\n",
    "        self.id = id\n",
    " \n",
    "  # To check if this person is an employee\n",
    "    def Display(self):\n",
    "        print(self.name, self.id)\n",
    " \n",
    " \n",
    "# Driver code\n",
    "emp = Person(\"Satyam\", 102) # An Object of Person\n",
    "emp.Display()\n",
    "\n",
    "\n",
    "#Inheritance is the capability of one class to derive or inherit the properties from another class. \n",
    "Python Inheritance Syntax\n",
    "Class BaseClass:\n",
    "    {Body}\n",
    "Class DerivedClass(BaseClass):\n",
    "    {Body}"
   ]
  },
  {
   "cell_type": "code",
   "execution_count": null,
   "id": "5680783b",
   "metadata": {},
   "outputs": [],
   "source": [
    "#26 What is Instantiation in terms of OOP terminology?\n",
    "In computer science, instantiation is the realization of a predefined object. \n",
    "In OOP (object-oriented programming), a class of object may be defined. ... An instance of\n",
    "that object may then be declared, giving it a unique, named identity so that it may be used in the program.\n",
    "This process is called \"instantiation.\""
   ]
  },
  {
   "cell_type": "code",
   "execution_count": 15,
   "id": "9420847a",
   "metadata": {},
   "outputs": [],
   "source": [
    "#27  What is used to check whether an object o is an instance of class A?"
   ]
  },
  {
   "cell_type": "code",
   "execution_count": 21,
   "id": "7a01f346",
   "metadata": {},
   "outputs": [
    {
     "ename": "NameError",
     "evalue": "name 'association' is not defined",
     "output_type": "error",
     "traceback": [
      "\u001b[1;31m---------------------------------------------------------------------------\u001b[0m",
      "\u001b[1;31mNameError\u001b[0m                                 Traceback (most recent call last)",
      "Input \u001b[1;32mIn [21]\u001b[0m, in \u001b[0;36m<cell line: 2>\u001b[1;34m()\u001b[0m\n\u001b[0;32m      1\u001b[0m \u001b[38;5;66;03m#28 What relationship is appropriate for Course and Faculty?\u001b[39;00m\n\u001b[1;32m----> 2\u001b[0m \u001b[43massociation\u001b[49m\n",
      "\u001b[1;31mNameError\u001b[0m: name 'association' is not defined"
     ]
    }
   ],
   "source": [
    "#28 What relationship is appropriate for Course and Faculty?\n",
    "association"
   ]
  },
  {
   "cell_type": "code",
   "execution_count": null,
   "id": "cdc4e8b4",
   "metadata": {},
   "outputs": [],
   "source": [
    "#29 What relationship is appropriate for Student and Person?\n",
    "So, simply we can say that it establishes an “is-a” or “kind of” relationship between Student and Person class. Saying that, Student is a kind of Person."
   ]
  }
 ],
 "metadata": {
  "kernelspec": {
   "display_name": "Python 3 (ipykernel)",
   "language": "python",
   "name": "python3"
  },
  "language_info": {
   "codemirror_mode": {
    "name": "ipython",
    "version": 3
   },
   "file_extension": ".py",
   "mimetype": "text/x-python",
   "name": "python",
   "nbconvert_exporter": "python",
   "pygments_lexer": "ipython3",
   "version": "3.10.5"
  }
 },
 "nbformat": 4,
 "nbformat_minor": 5
}
