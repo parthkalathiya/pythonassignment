{
 "cells": [
  {
   "cell_type": "code",
   "execution_count": null,
   "id": "5d969522",
   "metadata": {},
   "outputs": [],
   "source": [
    "#1\n",
    "num1 = 1\n",
    "\n",
    "if num1 > 0:\n",
    "    print('number is positive')\n",
    "elif num1 == 0:\n",
    "    print('numner is positive')\n",
    "else:\n",
    "    print('number is negative')"
   ]
  },
  {
   "cell_type": "code",
   "execution_count": null,
   "id": "335b8591",
   "metadata": {},
   "outputs": [],
   "source": [
    "#2\n",
    "num = 7\n",
    "factorial = 1\n",
    "\n",
    "if num < 0:\n",
    "   print(\"Sorry, factorial not exist for negative numbers\")\n",
    "elif num == 0:\n",
    "   print(\"The factorial of 0 is 1\")\n",
    "else:\n",
    "   for i in range(1,num + 1):\n",
    "       factorial = factorial*i\n",
    "   print(\"The factorial of\",num,\"is\",factorial)"
   ]
  },
  {
   "cell_type": "code",
   "execution_count": null,
   "id": "a4b2fa72",
   "metadata": {},
   "outputs": [],
   "source": [
    "#3\n",
    "nterms = int(input(\"How many terms? \"))\n",
    "\n",
    "n1, n2 = 0, 1\n",
    "count = 0\n",
    "\n",
    "if nterms <= 0:\n",
    "   print(\"Please enter a positive integer\")\n",
    "\n",
    "elif nterms == 1:\n",
    "   print(\"Fibonacci sequence upto\",nterms,\":\")\n",
    "   print(n1)\n",
    "else:\n",
    "   print(\"Fibonacci sequence:\")\n",
    "   while count < nterms:\n",
    "       print(n1)\n",
    "       nth = n1 + n2\n",
    "       # update values\n",
    "       n1 = n2\n",
    "       n2 = nth\n",
    "       count += 1"
   ]
  },
  {
   "cell_type": "code",
   "execution_count": null,
   "id": "37d6194b",
   "metadata": {},
   "outputs": [],
   "source": [
    "#4\n",
    "Memory management in Python involves a private heap containing all Python objects and data structures. The management of this private heap is ensured internally by the Python memory manager. "
   ]
  },
  {
   "cell_type": "code",
   "execution_count": null,
   "id": "4989c6a5",
   "metadata": {},
   "outputs": [],
   "source": [
    "#5\n",
    "The continue statement in Python returns the control to the beginning of the while loop. The continue statement rejects all the remaining statements in the current iteration of the loop and moves the control back to the top of the loop.\n",
    "\n",
    "The continue statement can be used in both while and for loops."
   ]
  },
  {
   "cell_type": "code",
   "execution_count": null,
   "id": "827819de",
   "metadata": {},
   "outputs": [],
   "source": [
    "#6\n",
    "\n",
    "x = 5\n",
    "y = 10\n",
    "\n",
    "temp = x\n",
    "x = y\n",
    "y = temp\n",
    "\n",
    "print('The value of x after swapping: {}'.format(x))\n",
    "print('The value of y after swapping: {}'.format(y))"
   ]
  },
  {
   "cell_type": "code",
   "execution_count": null,
   "id": "f5af3187",
   "metadata": {},
   "outputs": [],
   "source": [
    "#7\n",
    "num = int(input(\"Enter a number: \"))\n",
    "mod = num % 2\n",
    "if mod > 0:\n",
    "    print(\"This is an odd number.\")\n",
    "else:\n",
    "    print(\"This is an even number.\")"
   ]
  },
  {
   "cell_type": "code",
   "execution_count": null,
   "id": "88404805",
   "metadata": {},
   "outputs": [],
   "source": [
    "#8\n",
    "def is_vowel(char):\n",
    "    all_vowels = 'aeiou'\n",
    "    return char in all_vowels\n",
    "print(is_vowel('c'))\n",
    "print(is_vowel('e'))"
   ]
  },
  {
   "cell_type": "code",
   "execution_count": null,
   "id": "36ae3a49",
   "metadata": {},
   "outputs": [],
   "source": [
    "#9 \n",
    "def sum_three(x, y, z):\n",
    "    if x == y or y == z or x==z:\n",
    "        sum = 0\n",
    "    else:\n",
    "        sum = x + y + z\n",
    "    return sum\n",
    "print(sum_three(2, 1, 6))"
   ]
  },
  {
   "cell_type": "code",
   "execution_count": null,
   "id": "e00f6455",
   "metadata": {},
   "outputs": [],
   "source": [
    "#10\n",
    "def test_number5(x, y):\n",
    "    if x == y or abs(x-y) == 5 or (x+y) == 5:\n",
    "        return True\n",
    "    else:\n",
    "        return False\n",
    "\n",
    "print(test_number5(7, 2))"
   ]
  },
  {
   "cell_type": "code",
   "execution_count": null,
   "id": "78f4b5dd",
   "metadata": {},
   "outputs": [],
   "source": [
    "#11\n",
    "num = int(input(\"Input a number: \"))\n",
    "sum_num = (num * (num + 1)) / 2\n",
    "print(sum_num)"
   ]
  },
  {
   "cell_type": "code",
   "execution_count": null,
   "id": "00b08088",
   "metadata": {},
   "outputs": [],
   "source": [
    "#12\n",
    "str = input(\"Enter a string: \")\n",
    "\n",
    "print(\"Length of the input string is:\", len(str))"
   ]
  },
  {
   "cell_type": "code",
   "execution_count": null,
   "id": "69477e58",
   "metadata": {},
   "outputs": [],
   "source": [
    "#13\n",
    "\n",
    "from collections import Counter\n",
    "\n",
    "test_str = \"GeeksforGeeks\"\n",
    "\n",
    "res = Counter(test_str)\n",
    "\n",
    "print (\"Count of all characters in GeeksforGeeks is :\\n \" +  str(res))"
   ]
  },
  {
   "cell_type": "code",
   "execution_count": null,
   "id": "5d484f5e",
   "metadata": {},
   "outputs": [],
   "source": [
    "#14\n",
    " Python programming language supports negative indexing of arrays, The negative indexing starts from where the array ends. This means that the last element of the array is the first element in the negative indexing which is -1."
   ]
  },
  {
   "cell_type": "code",
   "execution_count": null,
   "id": "6c508bd3",
   "metadata": {},
   "outputs": [],
   "source": [
    "#15\n",
    "name = 'python is popular programming language'\n",
    "\n",
    "print('Number of occurrence of p:', name.count('p'))\n"
   ]
  },
  {
   "cell_type": "code",
   "execution_count": 1,
   "id": "ab96c0bb",
   "metadata": {},
   "outputs": [
    {
     "name": "stdout",
     "output_type": "stream",
     "text": [
      "Enter a string : parth\n",
      "Here, 'parth' is occirring '1' times\n"
     ]
    }
   ],
   "source": [
    "#16\n",
    "str1 = input('Enter a string : ')\n",
    "str2 = str1.split()\n",
    "str3 = []\n",
    "for seq in str2:\n",
    "    n = str1.count(seq)\n",
    "    if seq in str3: continue\n",
    "    else : str3.append(seq)\n",
    "    print(f\"Here, '{seq}' is occirring '{n}' times\")"
   ]
  },
  {
   "cell_type": "code",
   "execution_count": null,
   "id": "2045d009",
   "metadata": {},
   "outputs": [],
   "source": [
    "#17\n",
    "str1 = input(\"Please Enter First String : \")\n",
    "str2 =input(\"Please Enter Second String : \")\n",
    " \n",
    "x=str1[0:2]\n",
    " \n",
    "str1=str1.replace(str1[0:2],str2[0:2])\n",
    " \n",
    "str2=str2.replace(str2[0:2],x)\n",
    " \n",
    "print(\"Your first string has become :- \",str1)\n",
    "print(\"Your second string has become :- \",str2)"
   ]
  },
  {
   "cell_type": "code",
   "execution_count": null,
   "id": "fd224f87",
   "metadata": {},
   "outputs": [],
   "source": [
    "#18\n",
    "string = input()\n",
    "if len(string) < 3:\n",
    "  print(string)\n",
    "elif string[-3:] == 'ing':\n",
    "  print(string + 'ly')\n",
    "else:\n",
    "  print(string + 'ing')"
   ]
  },
  {
   "cell_type": "code",
   "execution_count": null,
   "id": "a1d612b3",
   "metadata": {},
   "outputs": [],
   "source": [
    "#19\n",
    "MyString1 = \"A gek in need  is a geek indeed\"\n",
    " \n",
    "if \"need\" in MyString1:\n",
    "    print(\"Yes! it is present in the string\")\n",
    "else:\n",
    "    print(\"No! it is not present\")"
   ]
  },
  {
   "cell_type": "code",
   "execution_count": null,
   "id": "c912cedc",
   "metadata": {},
   "outputs": [],
   "source": [
    "#20\n",
    "def longestLength(a):\n",
    "    max1 = len(a[0])\n",
    "    temp = a[0]\n",
    " \n",
    "    for i in a:\n",
    "        if(len(i) > max1):\n",
    " \n",
    "            max1 = len(i)\n",
    "            temp = i\n",
    " \n",
    "    print(\"The word with the longest length is:\", temp,\n",
    "          \" and length is \", max1)\n",
    " \n",
    " \n",
    "a = [\"one\", \"two\", \"third\", \"four\"]\n",
    "longestLength(a)"
   ]
  },
  {
   "cell_type": "code",
   "execution_count": null,
   "id": "cb6c2437",
   "metadata": {},
   "outputs": [],
   "source": [
    "#21\n",
    "def reverse_slice(string):\n",
    "    return string[::-1]\n",
    "\n",
    "string = 'Parth'\n",
    "\n",
    "print('Original String: ', string)\n",
    "print('Reverse String: ', reverse_slice(string))"
   ]
  },
  {
   "cell_type": "code",
   "execution_count": 3,
   "id": "39bc1656",
   "metadata": {},
   "outputs": [
    {
     "name": "stdout",
     "output_type": "stream",
     "text": [
      "Input string = Parth\n",
      "New String = Path\n"
     ]
    }
   ],
   "source": [
    "#22\n",
    "inputString = \"Parth\"\n",
    "  \n",
    "count = 0\n",
    "\n",
    "for i in inputString:\n",
    "      count = count + 1\n",
    "newString = inputString[ 0:2 ] + inputString [count - 2: count ] \n",
    "  \n",
    "print(\"Input string = \" + inputString)\n",
    "print(\"New String = \"+ newString)"
   ]
  },
  {
   "cell_type": "code",
   "execution_count": 4,
   "id": "93da59a5",
   "metadata": {},
   "outputs": [
    {
     "name": "stdout",
     "output_type": "stream",
     "text": [
      "Enter a String : parth\n",
      "Enter a substring that will be add in string 1 :partyh\n",
      "Your new string will be : papartyhrth\n"
     ]
    }
   ],
   "source": [
    "#23\n",
    "str1 = input('Enter a String : ')\n",
    "str2 = input('Enter a substring that will be add in string 1 :')\n",
    "x = int(len(str1)/2)\n",
    "str3 = str1[x:]\n",
    "new = str1[0:x]+str2+str3\n",
    "print('Your new string will be :',new)"
   ]
  },
  {
   "cell_type": "code",
   "execution_count": null,
   "id": "729e28b2",
   "metadata": {},
   "outputs": [],
   "source": []
  }
 ],
 "metadata": {
  "kernelspec": {
   "display_name": "Python 3 (ipykernel)",
   "language": "python",
   "name": "python3"
  },
  "language_info": {
   "codemirror_mode": {
    "name": "ipython",
    "version": 3
   },
   "file_extension": ".py",
   "mimetype": "text/x-python",
   "name": "python",
   "nbconvert_exporter": "python",
   "pygments_lexer": "ipython3",
   "version": "3.10.5"
  }
 },
 "nbformat": 4,
 "nbformat_minor": 5
}
