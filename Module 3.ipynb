{
 "cells": [
  {
   "cell_type": "code",
   "execution_count": null,
   "id": "9fa812de",
   "metadata": {},
   "outputs": [],
   "source": [
    "#1 What is List? How will you reverse a list?\n",
    "\n",
    "#A list is a data structure in Python that is a mutable, or changeable, ordered sequence of elements. Each element or value that is inside of a list is called an item.\n",
    "\n",
    "parth = [\"kevin\",\"smit\",\"tejas\",\"vivek\",\"parth\"]\n",
    "parth.reverse()\n",
    "print(parth)"
   ]
  },
  {
   "cell_type": "code",
   "execution_count": null,
   "id": "978e3f18",
   "metadata": {},
   "outputs": [],
   "source": [
    "#2 How will you remove last object from a list?\n",
    "\n",
    "name = [\"parth\",\"vivek\",\"tejas\",\"smit\"]\n",
    "name.pop()\n",
    "print(name)"
   ]
  },
  {
   "cell_type": "code",
   "execution_count": null,
   "id": "86ae0440",
   "metadata": {},
   "outputs": [],
   "source": [
    "#3 Suppose list1 is [2, 33, 222, 14, and 25], what is list1 [-1]?\n",
    "\n",
    "list1 = [2,33,222,14,25]\n",
    "list1[-1]"
   ]
  },
  {
   "cell_type": "code",
   "execution_count": null,
   "id": "ed245c3e",
   "metadata": {},
   "outputs": [],
   "source": [
    "#4 Differentiate between append () and extend () methods?\n",
    "Python append()method adds an element to a list and append() method adds its argument as a single element to the end of a list.\n",
    "and the extend() method concatenates the first list with another list."
   ]
  },
  {
   "cell_type": "code",
   "execution_count": 12,
   "id": "9266f71f",
   "metadata": {},
   "outputs": [
    {
     "name": "stdout",
     "output_type": "stream",
     "text": [
      "98\n",
      "22\n",
      "308\n"
     ]
    }
   ],
   "source": [
    "#5 Write a Python function to get the largest number, smallest num and sum of all from a list\n",
    "\n",
    "num = [22,44,79,98,65]\n",
    "maxi = max(num)\n",
    "mini = min(num)\n",
    "sums = sum(num)\n",
    "print(maxi)\n",
    "print(mini)\n",
    "print(sums)\n"
   ]
  },
  {
   "cell_type": "raw",
   "id": "543d8045",
   "metadata": {},
   "source": [
    "#6 How will you compare two lists?\n",
    "list1 = [11, 12, 13, 14, 15]  \n",
    "list2 = [12, 13, 11, 15, 14]  \n",
    "  \n",
    "a = set(list1)  \n",
    "b = set(list2)\n",
    "\n",
    "if a ==  b:  \n",
    "    print(\"The list1 and list2 are equal\")  \n",
    "else:  \n",
    "    print(\"The list1 and list2 are not equal\")  "
   ]
  },
  {
   "cell_type": "code",
   "execution_count": null,
   "id": "e01b8c62",
   "metadata": {},
   "outputs": [],
   "source": [
    "# 7 Write a Python program to count the number of strings where the string length is 2 or more and the first and last character are same from a given list of strings.\n",
    "\n",
    "mainlist = ['parth','kaathiya','akf','jaj','ii','i']\n",
    "cnt = 0\n",
    "for _ in mainlist:\n",
    "    if len(_) >= 2 and _[0] == _[-1]:\n",
    "        cnt = cnt + 1\n",
    "        \n",
    "print(cnt)"
   ]
  },
  {
   "cell_type": "code",
   "execution_count": null,
   "id": "8133ee90",
   "metadata": {},
   "outputs": [],
   "source": [
    "#8 Write a Python program to remove duplicates from a list.\n",
    "l = input().split(' ')\n",
    "s = set(l)\n",
    "l1 = list(s)\n",
    "l1.sort()\n",
    "print(l1)"
   ]
  },
  {
   "cell_type": "code",
   "execution_count": null,
   "id": "4761bf2d",
   "metadata": {},
   "outputs": [],
   "source": [
    "#9 Write a Python program to check a list is empty or not.\n",
    "l = list(input())\n",
    "print('Empty') if len(l) == 0 else print('Not Empty')\n"
   ]
  },
  {
   "cell_type": "code",
   "execution_count": null,
   "id": "07d4cb77",
   "metadata": {},
   "outputs": [],
   "source": [
    "#10 Write a Python function that takes two lists and returns true if they have at least one common member.\n",
    "def member(list1,list2):\n",
    "    for _ in range(len(list1)):\n",
    "        if list1[_] in list2 : return True\n",
    "        else: mem1 = False\n",
    "    for _ in range(len(list2)):\n",
    "        if list2[_] in list1 : return True\n",
    "        else: mem2 = False\n",
    "    \n",
    "    return mem1 or mem2\n",
    "\n",
    "_list1 = input().split()\n",
    "list1 = list(map(int, _list1))\n",
    "_list2 = input().split()\n",
    "list2 = list(map(int, _list2))\n",
    "print(member(list1,list2))"
   ]
  },
  {
   "cell_type": "code",
   "execution_count": null,
   "id": "a82cce8e",
   "metadata": {},
   "outputs": [],
   "source": [
    "#11 Write a Python program to generate and print a list of first and last 5 elements where the values are square of numbers between 1 and 30.\n",
    "l1 = list()\n",
    "for _ in range(1,31):\n",
    "    l1.append(_**2)\n",
    "print('l1 = ',l1)\n",
    "l2 = list()\n",
    "for _ in range(10):\n",
    "    if _ < 5:\n",
    "        l2.append(l1[_])\n",
    "    else:\n",
    "        l2.append(l1[20+_])\n",
    "print('l2 = ',l2)"
   ]
  },
  {
   "cell_type": "code",
   "execution_count": null,
   "id": "ef2977eb",
   "metadata": {},
   "outputs": [],
   "source": [
    "#12 Write a Python function that takes a list and returns a new list with unique elements of the first list.\n",
    "def listtoset(l):\n",
    "    return set(l)\n",
    "\n",
    "l1 = list(map(int, input().split()))\n",
    "print('Old list :',list(l1))\n",
    "print('New list :', list(listtoset(l1)))\n"
   ]
  },
  {
   "cell_type": "code",
   "execution_count": null,
   "id": "224136da",
   "metadata": {},
   "outputs": [],
   "source": [
    "#13 Write a Python program to convert a list of characters into a string.\n",
    "l1 = ['p', 'a', 'r', 't ', 'h', ' ', 'k', 'a', 'l', 'a', 't','h', 'i', 'y', 'a']\n",
    "l2 = ''.join(l1)\n",
    "print('List of strings:',l1)\n",
    "print('Join the list of strings:',\"'\"+l2+\"'\")"
   ]
  },
  {
   "cell_type": "code",
   "execution_count": null,
   "id": "373dafde",
   "metadata": {},
   "outputs": [],
   "source": [
    "#14 Write a Python program to select an item randomly from a list.\n",
    "import random\n",
    "l1 =['p', 'a', 'r', 't ', 'h', ' ', 'k', 'a', 'l', 'a', 't','h', 'i', 'y', 'a']\n",
    "print(random.choice(l1))"
   ]
  },
  {
   "cell_type": "code",
   "execution_count": 2,
   "id": "6bdff417",
   "metadata": {},
   "outputs": [
    {
     "name": "stdout",
     "output_type": "stream",
     "text": [
      "4\n"
     ]
    }
   ],
   "source": [
    "#15 Write a Python program to find the second smallest number in a list.\n",
    "l1 = [21,3,3,45,4,6,45,21,23,54]\n",
    "mn = min(l1)\n",
    "for _ in range(l1.count(mn)):\n",
    "    l1.remove(mn)\n",
    "print(min(l1))"
   ]
  },
  {
   "cell_type": "code",
   "execution_count": 4,
   "id": "d2addc63",
   "metadata": {},
   "outputs": [
    {
     "name": "stdout",
     "output_type": "stream",
     "text": [
      "Old : [21, 3, 3, 45, 4, 6, 45, 21, 23, 54]\n",
      "New : [3, 4, 6, 45, 21, 54, 23]\n"
     ]
    }
   ],
   "source": [
    "#16 Write a Python program to get unique values from a list\n",
    "l1 = [21,3,3,45,4,6,45,21,23,54]\n",
    "s = set(l1)\n",
    "l2 = list(s)\n",
    "print('Old :',l1)\n",
    "print('New :',l2)"
   ]
  },
  {
   "cell_type": "code",
   "execution_count": 5,
   "id": "0f3b8c50",
   "metadata": {},
   "outputs": [
    {
     "name": "stdout",
     "output_type": "stream",
     "text": [
      "True\n"
     ]
    }
   ],
   "source": [
    "#17 Write a Python program to check whether a list contains a sub list\n",
    "l1 = [2,'g',4,5,6,[4,'a'],5]\n",
    "l2 = [1,2,3,4,5,'g']\n",
    "for _ in l1:\n",
    "    if type(_) == list : sl = True; break\n",
    "    else :  sl = False\n",
    "print(sl)\n"
   ]
  },
  {
   "cell_type": "code",
   "execution_count": 7,
   "id": "f506704a",
   "metadata": {},
   "outputs": [
    {
     "name": "stdout",
     "output_type": "stream",
     "text": [
      "1\n",
      "2\n",
      "4\n"
     ]
    }
   ],
   "source": [
    "#18 Write a Python program to split a list into different variables.\n",
    "v1,v2,v3 = [1,2,4]\n",
    "print(v1)\n",
    "print(v2)\n",
    "print(v3)\n"
   ]
  },
  {
   "cell_type": "code",
   "execution_count": 9,
   "id": "4b5f0848",
   "metadata": {},
   "outputs": [],
   "source": [
    "#19 What is tuple? Difference between list and tuple.\n",
    "#      Tuples are list of values which are ordered and immutable. difference b/w Lists and tuples are of mutation. \n",
    "#      where Lists are mutable and Tuples are immutable."
   ]
  },
  {
   "cell_type": "code",
   "execution_count": 11,
   "id": "99ccd2c9",
   "metadata": {},
   "outputs": [],
   "source": [
    "#20 Write a Python program to create a tuple with different data types.\n",
    "t = ('parthBatch-master/', 75, True,'Kalathiya')"
   ]
  },
  {
   "cell_type": "code",
   "execution_count": 13,
   "id": "bc48a5d8",
   "metadata": {},
   "outputs": [],
   "source": [
    "#21 Write a Python program to create a tuple with numbers.\n",
    "t = (1,2,3,4,5,6,7,8)"
   ]
  },
  {
   "cell_type": "code",
   "execution_count": 14,
   "id": "1c8aef61",
   "metadata": {},
   "outputs": [
    {
     "name": "stdout",
     "output_type": "stream",
     "text": [
      "HELLO WORLD\n"
     ]
    }
   ],
   "source": [
    "#22 Write a Python program to convert a tuple to a string.\n",
    "t = ('HELLO','WORLD')\n",
    "print(' '.join(t))"
   ]
  },
  {
   "cell_type": "code",
   "execution_count": 15,
   "id": "45941b30",
   "metadata": {},
   "outputs": [
    {
     "name": "stdout",
     "output_type": "stream",
     "text": [
      "True\n"
     ]
    }
   ],
   "source": [
    "#23 Write a Python program to check whether an element exists within a tuple.\n",
    "t = (1,2,3,4,5,6,7,8)\n",
    "c = 1\n",
    "if c in t:\n",
    "    print(True)\n",
    "else : print(False)"
   ]
  },
  {
   "cell_type": "code",
   "execution_count": 17,
   "id": "bc0692fe",
   "metadata": {},
   "outputs": [
    {
     "name": "stdout",
     "output_type": "stream",
     "text": [
      "8\n"
     ]
    }
   ],
   "source": [
    "#24 Write a Python program to find the length of a tuple\n",
    "\n",
    "t= (1,2,3,4,5,6,7,8)\n",
    "print(len(t))"
   ]
  },
  {
   "cell_type": "code",
   "execution_count": 19,
   "id": "56f52fbb",
   "metadata": {},
   "outputs": [
    {
     "name": "stdout",
     "output_type": "stream",
     "text": [
      "(1, 2, 3, 5, 6, 7, 8, 9, 0) <class 'tuple'>\n"
     ]
    }
   ],
   "source": [
    "#25 Write a Python program to convert a list to a tuple\n",
    "l = [1,2,3,5,6,7,8,9,0]\n",
    "t = tuple(l)\n",
    "print(t,type(t))"
   ]
  },
  {
   "cell_type": "code",
   "execution_count": 21,
   "id": "22d75f8e",
   "metadata": {},
   "outputs": [
    {
     "name": "stdout",
     "output_type": "stream",
     "text": [
      "(5, 8, 78, 7, 6, 5, 3, 2, 1)\n"
     ]
    }
   ],
   "source": [
    "#26 Write a Python program to reverse a tuple.\n",
    "t= (1,2,3,5,6,7,78,8,5)\n",
    "t_new = t[-1::-1]\n",
    "print(t_new)"
   ]
  },
  {
   "cell_type": "code",
   "execution_count": 25,
   "id": "aef8fe45",
   "metadata": {},
   "outputs": [
    {
     "name": "stdout",
     "output_type": "stream",
     "text": [
      "[(1, 1), (3, 3), (5, 5), (7, 7), (9, 9)]\n"
     ]
    }
   ],
   "source": [
    "#27 Write a Python program to replace last value of tuples in a list.\n",
    "lt = [(1,2),(3,4),(5,6),(7,8),(9,0)]\n",
    "for _ in range(len(lt)):\n",
    "    _n = list(lt[_])\n",
    "    _n[1] = _n[0]\n",
    "    _n = tuple(_n)\n",
    "    lt[_] = _n\n",
    "    \n",
    "print(lt)"
   ]
  },
  {
   "cell_type": "code",
   "execution_count": 26,
   "id": "d3f2686c",
   "metadata": {},
   "outputs": [
    {
     "name": "stdout",
     "output_type": "stream",
     "text": [
      "Repeated members of tuple : (3, 4, 5, 6)\n"
     ]
    }
   ],
   "source": [
    "#28 Write a Python program to find the repeated items of a tuple.\n",
    "t= (1,2,3,4,5,6,8,5,6,43,4,4,3,5)\n",
    "s = set(t)\n",
    "d = dict()\n",
    "l = list()\n",
    "for _ in s:\n",
    "    d[_] = t.count(_)\n",
    "# print(d)\n",
    "for k,v in d.items():\n",
    "    if v >= 2:l.append(k)\n",
    "print('Repeated members of tuple :',tuple(l))"
   ]
  },
  {
   "cell_type": "code",
   "execution_count": 27,
   "id": "be5fa942",
   "metadata": {},
   "outputs": [
    {
     "name": "stdout",
     "output_type": "stream",
     "text": [
      "[(1, 2, 3), ('j', 1), (True, 1), (2, 3, 4), 6.34]\n"
     ]
    }
   ],
   "source": [
    "#29 Write a Python program to remove an empty tuple(s) from a list of tuples\n",
    "lt = [(1,2,3),('j',1),(True,1),(),(2,3,4),(),(6.34),()]\n",
    "for seq in lt:\n",
    "    if len(seq) == 0: lt.remove(seq)\n",
    "print(lt)"
   ]
  },
  {
   "cell_type": "code",
   "execution_count": 29,
   "id": "bb7688ae",
   "metadata": {},
   "outputs": [
    {
     "name": "stdout",
     "output_type": "stream",
     "text": [
      "[1, 2, 3]\n",
      "['j', 1]\n",
      "[True, 1]\n",
      "[]\n",
      "[2, 3, 4]\n"
     ]
    }
   ],
   "source": [
    "#30 Write a Python program to unzip a list of tuples into individual lists.\n",
    "lt = [(1,2,3),('j',1),(True,1),(),(2,3,4)]\n",
    "for seq in lt:\n",
    "    print(list(seq))"
   ]
  },
  {
   "cell_type": "code",
   "execution_count": 31,
   "id": "3fab6810",
   "metadata": {},
   "outputs": [
    {
     "name": "stdout",
     "output_type": "stream",
     "text": [
      "{'parth': 'kalathiya', 'vivek': 'kalathiya'}\n"
     ]
    }
   ],
   "source": [
    "#31 Write a Python program to convert a list of tuples into a dictionary.\n",
    "l1 = [('parth','kalathiya'),('vivek','kalathiya')]\n",
    "dic = {}\n",
    "\n",
    "for _ in l1:\n",
    "    k,v = _\n",
    "    dic[k] = v\n",
    "        \n",
    "print(dic)"
   ]
  },
  {
   "cell_type": "code",
   "execution_count": 35,
   "id": "47d489a2",
   "metadata": {},
   "outputs": [],
   "source": [
    "#32 How will you create a dictionary using tuples in python?\n",
    "t1 = (1,2,3,5,6,7)\n",
    "t2 = tuple('abcdef')\n",
    "dic = dict(zip(t1,t2))\n"
   ]
  },
  {
   "cell_type": "code",
   "execution_count": 37,
   "id": "cb18c49b",
   "metadata": {},
   "outputs": [
    {
     "name": "stdout",
     "output_type": "stream",
     "text": [
      "Ascending Order with value :  {6: 0, 1: 1, 2: 4, 3: 5, 7: 16, 5: 25}\n",
      "Descending order with value:  {5: 25, 7: 16, 3: 5, 2: 4, 1: 1, 6: 0}\n"
     ]
    }
   ],
   "source": [
    "#33 Write a Python script to sort (ascending and descending) a dictionary by value.\n",
    "\n",
    "d1 = {1: 1, 6: 0, 2: 4, 5: 25, 3: 5, 4: 16, 7:16}\n",
    "d2 = dict()\n",
    "for k,v in d1.items():\n",
    "    d2.update({v:k})\n",
    "d3 = dict()    \n",
    "\n",
    "for k,v in sorted(d2.items()):\n",
    "    d3.update({v:k})\n",
    "print('Ascending Order with value : ',d3)\n",
    "d3.clear()\n",
    "for k,v in sorted(d2.items(),reverse = True):\n",
    "    d3.update({v:k})\n",
    "print('Descending order with value: ',d3)"
   ]
  },
  {
   "cell_type": "code",
   "execution_count": 39,
   "id": "51ded07b",
   "metadata": {},
   "outputs": [
    {
     "name": "stdout",
     "output_type": "stream",
     "text": [
      "{'a': 100, 'b': 200, 'c': 300, 'd': 300, 'e': 200, 'f': 400, 'g': 200, 'h': 300, 'i': 900}\n"
     ]
    }
   ],
   "source": [
    "#34 Write a Python script to concatenate following dictionaries to create a new one.\n",
    "\n",
    "d1 = {'a': 100, 'b': 200, 'c':300} \n",
    "d2 = {'d': 300, 'e': 200, 'f':400}\n",
    "d3 = {'g': 200, 'h': 300, 'i':900}\n",
    "d4 = {}\n",
    "for d in (d1,d2,d3): d4.update(d)\n",
    "print(d4)"
   ]
  },
  {
   "cell_type": "code",
   "execution_count": null,
   "id": "e33f1a67",
   "metadata": {},
   "outputs": [],
   "source": [
    "#35 Write a Python script to check if a given key already exists in a dictionary.\n",
    "d1 = {'a': 100, 'b': 200, 'c':300}\n",
    "key = input('Enter the key for check : ')\n",
    "\n",
    "\n",
    "if key in d1 : print(\"Key is already exist in the dictionary with the value :\",d1[key])\n",
    "else: print(\"Key doesn't exist in dictionary.\")"
   ]
  },
  {
   "cell_type": "code",
   "execution_count": 41,
   "id": "4385b85d",
   "metadata": {},
   "outputs": [],
   "source": [
    "#36 How Do You Traverse Through A Dictionary Object In Python?\n",
    "#    > There are two ways of iterating through a Python dictionary object. \n",
    "    #  One is to fetch associated value for each key in keys() list. \n",
    "    #  There is also items() method of dictionary object which returns list of tuples, \n",
    "    #  each tuple having key and value."
   ]
  },
  {
   "cell_type": "code",
   "execution_count": null,
   "id": "bb33ecdd",
   "metadata": {},
   "outputs": [],
   "source": [
    "#37 How Do You Check The Presence Of A Key In A Dictionary\n",
    "d1 = {'a': 100, 'b': 200, 'c':300}\n",
    "key = input('Enter the key for check : ')\n",
    "\n",
    "\n",
    "if key in d1 : print(\"Key is already exist in the dictionary with the value :\",d1[key])\n",
    "else: print(\"Key doesn't exist in dictionary.\")"
   ]
  },
  {
   "cell_type": "code",
   "execution_count": null,
   "id": "4472da44",
   "metadata": {},
   "outputs": [],
   "source": [
    "#38 Write a Python script to print a dictionary where the keys are numbers between 1 and 15.\n",
    "dic = {}\n",
    "\n",
    "for _ in range(1,16):\n",
    "    dic.update({_:_**2})\n",
    "print(dic)"
   ]
  },
  {
   "cell_type": "code",
   "execution_count": null,
   "id": "78ee7d78",
   "metadata": {},
   "outputs": [],
   "source": [
    "#39 Write a Python program to check multiple keys exists in a dictionary\n",
    "#    > It isn't possible because dictionary automatically update the value with the latest one if the key exist in dic.\n",
    "#      So, there is not a single chance to exist multiple keys in same dictionary."
   ]
  },
  {
   "cell_type": "code",
   "execution_count": null,
   "id": "2d4246c5",
   "metadata": {},
   "outputs": [],
   "source": [
    "#40 Write a Python script to merge two Python dictionaries\n",
    "d1 = {'a': 100, 'b': 200, 'c':300} \n",
    "d2 = {'d': 300, 'e': 200, 'f':400}\n",
    "dic = {}\n",
    "\n",
    "d1.update(d2)\n",
    "print(d1)"
   ]
  },
  {
   "cell_type": "code",
   "execution_count": null,
   "id": "d64f468b",
   "metadata": {},
   "outputs": [],
   "source": [
    "#41 Write a Python program to map two lists into a dictionary\n",
    "def sqr(n):\n",
    "    return n**2\n",
    "\n",
    "l1 = [1,2,3,4,5,6,7]\n",
    "l2 = list(map(sqr,l1))\n",
    "dic = dict()\n",
    "\n",
    "for _ in range(len(l1)):\n",
    "    dic[l1[_]] = l2[_]\n",
    "    \n",
    "print(dic)"
   ]
  },
  {
   "cell_type": "code",
   "execution_count": null,
   "id": "fed16c3f",
   "metadata": {},
   "outputs": [],
   "source": [
    "#42 Write a Python program to combine two dictionary adding values for common keys.\n",
    "# d1 = {'a': 100, 'b': 200, 'c':300}\n",
    "# d2 = {'a': 300, 'b': 200,’d’:400}\n",
    "\n",
    "d1 = {'a': 100, 'b': 200, 'c':300} \n",
    "d2 = {'a': 300, 'b': 200, 'd':400}\n",
    "\n",
    "for k,v in d2.items():\n",
    "    if k in d1: \n",
    "        d1[k] = v + d1.get(k)\n",
    "    else: d1[k] = v\n",
    "print(d1)"
   ]
  },
  {
   "cell_type": "code",
   "execution_count": null,
   "id": "091190e7",
   "metadata": {},
   "outputs": [],
   "source": [
    "#43 Write a Python program to print all unique values in a dictionary.\n",
    "\n",
    "d1 = {'a': 400, 'b': 400, 'c': 300, 'd': 400}\n",
    "s = set()\n",
    "\n",
    "for k,v in d1.items():\n",
    "    s.add(v)\n",
    "print(s)"
   ]
  },
  {
   "cell_type": "code",
   "execution_count": null,
   "id": "c7220f76",
   "metadata": {},
   "outputs": [],
   "source": [
    "#44 Why Do You Use the Zip () Method in Python?\n",
    "l1 = [1,2,3,4,5,6,7,8]\n",
    "l2 = [11,12,13,14,15,16,17]\n",
    "dic = list(zip(l1,l2))\n",
    "print(dic)"
   ]
  },
  {
   "cell_type": "code",
   "execution_count": null,
   "id": "dd8a9042",
   "metadata": {},
   "outputs": [],
   "source": [
    "#45 Write a Python program to create and display all combinations of letters, selecting each letter from a different key in a dictionary.\n",
    "\n",
    "d = {'1':['a','b'], '2':['c','d'], '3':['e','f']}\n",
    "l1 = list()\n",
    "for k,v in d.items():\n",
    "    l1.append(v)\n",
    "\n",
    "for _ in l1[0]:\n",
    "    for x in l1[1]:\n",
    "        print(_+x)\n"
   ]
  },
  {
   "cell_type": "code",
   "execution_count": null,
   "id": "dc9933a5",
   "metadata": {},
   "outputs": [],
   "source": [
    "#46 Write a Python program to find the highest 3 values in a dictionary\n",
    "d = {1 : 200, 2 : 34, 3 : 56, 4 : 290, 5 : 3, 6 : 78, 7 : 47 , 8 : 234, 9 : 500}\n",
    "l1 = list()\n",
    "max_d = dict()\n",
    "for k,v in d.items():\n",
    "    l1.append(v)\n",
    "# print(l1)\n",
    "\n",
    "for _ in range(3):\n",
    "    max_d[_+1] = max(l1)\n",
    "    l1.remove(max(l1))\n",
    "print(max_d)"
   ]
  },
  {
   "cell_type": "code",
   "execution_count": null,
   "id": "039d3d2e",
   "metadata": {},
   "outputs": [],
   "source": [
    "#47 Write a Python program to combine values in python list of dictionaries.Sample data: [{'item': 'item1', 'amount': 400}, {'item': 'item2', 'amount':300},\n",
    "l1 = [{'item': 'item1', 'amount': 400}, {'item': 'item2', 'amount': 300}, {'item': 'item1', 'amount': 750}, \n",
    "      {'item': 'item3', 'amount': 750}]\n",
    "dic = dict()\n",
    "l2 = list()\n",
    "l3 = list()\n",
    "\n",
    "for seq in l1:\n",
    "    for k,v in seq.items():\n",
    "        if k == 'item': l2.append(v)            \n",
    "        if k == 'amount': l3.append(v)\n",
    "\n",
    "for _ in range(len(l2)):\n",
    "    if l2[_] not in dic: dic[l2[_]] = l3[_]\n",
    "    else: dic[l2[_]] = l3[_] + dic.get(l2[_])\n",
    "print(dic)"
   ]
  },
  {
   "cell_type": "code",
   "execution_count": null,
   "id": "a8b41f27",
   "metadata": {},
   "outputs": [],
   "source": [
    "#48  Write a Python program to create a dictionary from a string.\n",
    "s = list('w3resource')\n",
    "d = dict()\n",
    "for _ in s:\n",
    "    d[_] = d.get(_,0) + 1\n",
    "print(d)"
   ]
  },
  {
   "cell_type": "code",
   "execution_count": null,
   "id": "ecb5246f",
   "metadata": {},
   "outputs": [],
   "source": [
    "#49 Write a Python function to calculate the factorial of a number (a nonnegative integer)\n",
    "def factorial(n):\n",
    "    if n == 0:\n",
    "        return 1\n",
    "    else:\n",
    "        return n * factorial(n-1)\n",
    "n=int(input(\"Input a number to compute the factiorial : \"))\n",
    "print(factorial(n))"
   ]
  },
  {
   "cell_type": "code",
   "execution_count": null,
   "id": "9270e16d",
   "metadata": {},
   "outputs": [],
   "source": [
    "#50 Write a Python function to check whether a number is in a given range\n",
    "def test_range(n):\n",
    "    if n in range(3,9):\n",
    "        print( \" %s is in the range\"%str(n))\n",
    "    else :\n",
    "        print(\"The number is outside the given range.\")\n"
   ]
  },
  {
   "cell_type": "code",
   "execution_count": null,
   "id": "ac3eac4d",
   "metadata": {},
   "outputs": [],
   "source": [
    "#51 Write a Python function to check whether a number is perfect or not.\n",
    "def perfect_number(n):\n",
    "    sum = 0\n",
    "    for x in range(1, n):\n",
    "        if n % x == 0:\n",
    "            sum += x\n",
    "    return sum == n\n",
    "print(perfect_number(6))"
   ]
  },
  {
   "cell_type": "code",
   "execution_count": null,
   "id": "5061d68b",
   "metadata": {},
   "outputs": [],
   "source": [
    "#52 Write a Python function that checks whether a passed string is palindrome or not\n",
    "def isPalindrome(string):\n",
    "left_pos = 0\n",
    "right_pos = len(string) - 1\n",
    "\n",
    "while right_pos >= left_pos:\n",
    "if not string[left_pos] == string[right_pos]:\n",
    "return False\n",
    "left_pos += 1\n",
    "right_pos -= 1\n",
    "return True\n",
    "print(isPalindrome('aza')) \n"
   ]
  },
  {
   "cell_type": "code",
   "execution_count": null,
   "id": "808d4e71",
   "metadata": {},
   "outputs": [],
   "source": [
    "#53 How do you perform pattern matching in Python? Explain\n",
    "import re\n",
    "phoneNumRegex = re.compile(r'\\d\\d\\d-\\d\\d\\d-\\d\\d\\d\\d')\n",
    "mo = phoneNumRegex.search('My number is 415-555-4242.')\n",
    "print('Phone number found: ' + mo.group())"
   ]
  },
  {
   "cell_type": "code",
   "execution_count": null,
   "id": "a2400eb1",
   "metadata": {},
   "outputs": [],
   "source": [
    "#54 What is lambda function in python? What we call a function which is incomplete version of a function?\n",
    "\n",
    "#Lambda Function, also referred to as ‘Anonymous function’ is same as a regular python function but can be defined without a name. While normal functions are defined using the def keyword, anonymous functions are defined using the lambda keyword. However,they are restricted to single line of expression."
   ]
  },
  {
   "cell_type": "code",
   "execution_count": null,
   "id": "6d1e37ae",
   "metadata": {},
   "outputs": [],
   "source": [
    "#55 How Many Basic Types Of Functions Are Available In Python?\n",
    "#There are two basic types of functions: built-in functions and user defined functions. The built-in functions are part of the Python language; for instance dir, len, or abs. The user defined functions are functions created with the def keyword."
   ]
  },
  {
   "cell_type": "code",
   "execution_count": null,
   "id": "6b4c228a",
   "metadata": {},
   "outputs": [],
   "source": [
    "#56 How can you pick a random item from a list or tuple?\n",
    "import random\n",
    "\n",
    "l = [0, 1, 2, 3, 4]\n",
    "\n",
    "print(random.choice(l))"
   ]
  },
  {
   "cell_type": "code",
   "execution_count": null,
   "id": "00d76698",
   "metadata": {},
   "outputs": [],
   "source": [
    "#57 How can you pick a random item from a range?\n",
    "num1 = random.randint(0, 9)\n",
    "print(num1)"
   ]
  },
  {
   "cell_type": "code",
   "execution_count": null,
   "id": "93ad14ed",
   "metadata": {},
   "outputs": [],
   "source": [
    "#58 How can you get a random number in python?\n",
    "num1 = random.randint(0, 9)\n",
    "print(num1)"
   ]
  },
  {
   "cell_type": "code",
   "execution_count": null,
   "id": "c345d524",
   "metadata": {},
   "outputs": [],
   "source": [
    "#59 How will you set the starting value in generating random numbers?\n",
    "import random \n",
    "for i in range(5):\n",
    "\n",
    "    random.seed(0)\n",
    "  \n",
    "    print(random.randint(1, 1000))  "
   ]
  },
  {
   "cell_type": "code",
   "execution_count": null,
   "id": "2f1fbfcc",
   "metadata": {},
   "outputs": [],
   "source": [
    "#60 How will you randomizes the items of a list in place?\n",
    "import random\n",
    "list = [2, 18, 8, 4]\n",
    "print \"Prior Shuffling - 0\", list\n",
    "random.shuffle(list)\n",
    "print \"After Shuffling - 1\", list\n",
    "random.shuffle(list)\n",
    "print \"After Shuffling - 2\", list"
   ]
  },
  {
   "cell_type": "code",
   "execution_count": null,
   "id": "d0aef694",
   "metadata": {},
   "outputs": [],
   "source": [
    "#61 Write a Python program to read a random line from a file\n",
    "import random\n",
    "def random_line(fname):\n",
    "    lines = open(fname).read().splitlines()\n",
    "    return random.choice(lines)\n",
    "print(random_line('test.txt'))\n"
   ]
  },
  {
   "cell_type": "code",
   "execution_count": null,
   "id": "f0ebcce2",
   "metadata": {},
   "outputs": [],
   "source": [
    "#62 Write a Python program to convert degree to radian\n",
    "pi=22/7\n",
    "degree = float(input(\"Input degrees: \"))\n",
    "radian = degree*(pi/180)\n",
    "print(radian)\n"
   ]
  },
  {
   "cell_type": "code",
   "execution_count": null,
   "id": "3baa4dec",
   "metadata": {},
   "outputs": [],
   "source": [
    "#63 Write a Python program to calculate the area of a trapezoid"
   ]
  },
  {
   "cell_type": "code",
   "execution_count": null,
   "id": "d998fa3b",
   "metadata": {},
   "outputs": [],
   "source": [
    "#64 Write a Python program to calculate the area of a parallelogram\n"
   ]
  },
  {
   "cell_type": "code",
   "execution_count": null,
   "id": "db5b531f",
   "metadata": {},
   "outputs": [],
   "source": [
    "#65 Write a Python program to calculate surface volume and area of a cylinder"
   ]
  },
  {
   "cell_type": "code",
   "execution_count": null,
   "id": "2b47b019",
   "metadata": {},
   "outputs": [],
   "source": [
    "#66 Write a Python program to returns sum of all divisors of a number"
   ]
  },
  {
   "cell_type": "code",
   "execution_count": null,
   "id": "30be6684",
   "metadata": {},
   "outputs": [],
   "source": [
    "#67 Write a Python program to find the maximum and minimum numbers\n",
    "from the specified decimal numbers.\n",
    "from decimal import *\n",
    "data = list(map(Decimal, '2.45 2.69 2.45 3.45 2.00 0.04 7.25'.split()))\n",
    "print(\"Maximum: \", max(data))\n",
    "print(\"Minimum: \", min(data))\n"
   ]
  }
 ],
 "metadata": {
  "kernelspec": {
   "display_name": "Python 3 (ipykernel)",
   "language": "python",
   "name": "python3"
  },
  "language_info": {
   "codemirror_mode": {
    "name": "ipython",
    "version": 3
   },
   "file_extension": ".py",
   "mimetype": "text/x-python",
   "name": "python",
   "nbconvert_exporter": "python",
   "pygments_lexer": "ipython3",
   "version": "3.10.5"
  }
 },
 "nbformat": 4,
 "nbformat_minor": 5
}
